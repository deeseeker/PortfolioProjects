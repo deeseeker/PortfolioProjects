{
 "cells": [
  {
   "cell_type": "code",
   "execution_count": 1,
   "id": "17e254fe",
   "metadata": {},
   "outputs": [],
   "source": [
    "import pyodbc "
   ]
  },
  {
   "cell_type": "code",
   "execution_count": 22,
   "id": "ba0886a6",
   "metadata": {},
   "outputs": [],
   "source": [
    "server = 'LAPTOP-NUPLH2BO\\SQLEXPRESS' \n",
    "database = 'test_tracker' \n",
    "# # username = 'LAPTOP-NUPLH2BO\\HP' \n",
    "# # password = 'mypassword' \n",
    "# cnxn = pyodbc.connect('DRIVER={SQL Server};' 'SERVER='+server+';' 'DATABASE='+database+';')\n",
    "# cursor = cnxn.cursor()\n",
    "# #cursor.execute('SELECT * FROM THH_tracker')\n",
    "\n",
    "\n",
    "# # Prepare the stored procedure execution script and parameter values\n",
    "# storedProc = \"Exec [dbo].[usp_is_tracker_imie_valid] @imie=?\"        \n",
    "# params = (359339000000000)        \n",
    "\n",
    "# for row in cursor.execute(storedProc, params):\n",
    "#     return True if row[0] == 'valid' else False\n",
    "\n",
    "def verify_imie(imie):\n",
    "    server = 'LAPTOP-NUPLH2BO\\SQLEXPRESS' \n",
    "    database = 'test_tracker' \n",
    "    \n",
    "    try:                \n",
    "        cnxn = pyodbc.connect('DRIVER={SQL Server};' 'SERVER='+server+';' 'DATABASE='+database+';')\n",
    "        cursor = cnxn.cursor()\n",
    "        # Prepare the stored procedure execution script and parameter values\n",
    "        storedProc = \"Exec [dbo].[usp_is_tracker_imie_valid] @imie=?\"        \n",
    "        params = (imie)        \n",
    "        # check validity of the values of Stored Procedure With Parameters \n",
    "        for row in cursor.execute(storedProc, params):\n",
    "            return True if row[0] == 'valid' else False \n",
    "        \n",
    "        conn.commit()\n",
    "        cursor.close()\n",
    "        del cursor        \n",
    "        # Close the database connection\n",
    "        conn.close()  \n",
    "    except Exception as e:\n",
    "        print(\"Error: %s\" % e)\n"
   ]
  },
  {
   "cell_type": "code",
   "execution_count": 25,
   "id": "022de7b0",
   "metadata": {},
   "outputs": [],
   "source": [
    "if verify_imie(200) is True:\n",
    "    print()"
   ]
  },
  {
   "cell_type": "code",
   "execution_count": 27,
   "id": "c647b36b",
   "metadata": {},
   "outputs": [],
   "source": [
    "def store_event(event,event_data,imie):\n",
    "    server = 'LAPTOP-NUPLH2BO\\SQLEXPRESS' \n",
    "    database = 'test_tracker'\n",
    "#     username = ' '\n",
    "#     password = ''\n",
    "# wrap try block within an if condition  of \"verify_imie\".\n",
    "    if verify_imie(param) is True:\n",
    "        try:                \n",
    "            conn = pyodbc.connect('Driver={SQL Server};SERVER='+server+';PORT=1433;DATABASE='+database+';UID='+username+';PWD='+ password+';Trusted_connection=no')\n",
    "            cursor = conn.cursor()\n",
    "            # Prepare the stored procedure execution script and parameter values\n",
    "            storedProc = \"Exec [dbo].[usp_add_location_tracking_event] @event=?, @event_data=?, @imie=?\"        \n",
    "            params = (event,event_data,imie)        \n",
    "            # Execute Stored Procedure With Parameters\n",
    "            cursor.execute(storedProc, params) \n",
    "            conn.commit()\n",
    "            cursor.close()\n",
    "            del cursor        \n",
    "            # Close the database connection\n",
    "            conn.close()        \n",
    "        \n",
    "        except Exception as e:\n",
    "            print(\"Error: %s\" % e)"
   ]
  },
  {
   "cell_type": "raw",
   "id": "7e6b2ba1",
   "metadata": {},
   "source": []
  },
  {
   "cell_type": "code",
   "execution_count": null,
   "id": "a4570179",
   "metadata": {},
   "outputs": [],
   "source": []
  },
  {
   "cell_type": "code",
   "execution_count": null,
   "id": "e5faf25c",
   "metadata": {},
   "outputs": [],
   "source": []
  },
  {
   "cell_type": "code",
   "execution_count": null,
   "id": "59345e16",
   "metadata": {},
   "outputs": [],
   "source": []
  },
  {
   "cell_type": "code",
   "execution_count": null,
   "id": "b8803148",
   "metadata": {},
   "outputs": [],
   "source": []
  },
  {
   "cell_type": "code",
   "execution_count": null,
   "id": "eaad85ca",
   "metadata": {},
   "outputs": [],
   "source": []
  },
  {
   "cell_type": "code",
   "execution_count": 1,
   "id": "21a43851",
   "metadata": {},
   "outputs": [
    {
     "ename": "InterfaceError",
     "evalue": "('IM002', '[IM002] [Microsoft][ODBC Driver Manager] Data source name not found and no default driver specified (0) (SQLDriverConnect)')",
     "output_type": "error",
     "traceback": [
      "\u001b[1;31m---------------------------------------------------------------------------\u001b[0m",
      "\u001b[1;31mInterfaceError\u001b[0m                            Traceback (most recent call last)",
      "Input \u001b[1;32mIn [1]\u001b[0m, in \u001b[0;36m<cell line: 9>\u001b[1;34m()\u001b[0m\n\u001b[0;32m      7\u001b[0m username \u001b[38;5;241m=\u001b[39m \u001b[38;5;124m'\u001b[39m\u001b[38;5;124mmyusername\u001b[39m\u001b[38;5;124m'\u001b[39m \n\u001b[0;32m      8\u001b[0m password \u001b[38;5;241m=\u001b[39m \u001b[38;5;124m'\u001b[39m\u001b[38;5;124mmypassword\u001b[39m\u001b[38;5;124m'\u001b[39m \n\u001b[1;32m----> 9\u001b[0m cnxn \u001b[38;5;241m=\u001b[39m \u001b[43mpyodbc\u001b[49m\u001b[38;5;241;43m.\u001b[39;49m\u001b[43mconnect\u001b[49m\u001b[43m(\u001b[49m\u001b[38;5;124;43m'\u001b[39;49m\u001b[38;5;124;43mDRIVER=\u001b[39;49m\u001b[38;5;124;43m{\u001b[39;49m\u001b[38;5;124;43mODBC Driver 18 for SQL Server};SERVER=\u001b[39;49m\u001b[38;5;124;43m'\u001b[39;49m\u001b[38;5;241;43m+\u001b[39;49m\u001b[43mserver\u001b[49m\u001b[38;5;241;43m+\u001b[39;49m\u001b[38;5;124;43m'\u001b[39;49m\u001b[38;5;124;43m;DATABASE=\u001b[39;49m\u001b[38;5;124;43m'\u001b[39;49m\u001b[38;5;241;43m+\u001b[39;49m\u001b[43mdatabase\u001b[49m\u001b[38;5;241;43m+\u001b[39;49m\u001b[38;5;124;43m'\u001b[39;49m\u001b[38;5;124;43m;UID=\u001b[39;49m\u001b[38;5;124;43m'\u001b[39;49m\u001b[38;5;241;43m+\u001b[39;49m\u001b[43musername\u001b[49m\u001b[38;5;241;43m+\u001b[39;49m\u001b[38;5;124;43m'\u001b[39;49m\u001b[38;5;124;43m;PWD=\u001b[39;49m\u001b[38;5;124;43m'\u001b[39;49m\u001b[38;5;241;43m+\u001b[39;49m\u001b[43m \u001b[49m\u001b[43mpassword\u001b[49m\u001b[43m)\u001b[49m\n\u001b[0;32m     10\u001b[0m cursor \u001b[38;5;241m=\u001b[39m cnxn\u001b[38;5;241m.\u001b[39mcursor()\n",
      "\u001b[1;31mInterfaceError\u001b[0m: ('IM002', '[IM002] [Microsoft][ODBC Driver Manager] Data source name not found and no default driver specified (0) (SQLDriverConnect)')"
     ]
    }
   ],
   "source": [
    "import pyodbc \n",
    "# Some other example server values are\n",
    "# server = 'localhost\\sqlexpress' # for a named instance\n",
    "# server = 'myserver,port' # to specify an alternate port\n",
    "server = 'tcp:myserver.database.windows.net' \n",
    "database = 'mydb' \n",
    "username = 'myusername' \n",
    "password = 'mypassword' \n",
    "cnxn = pyodbc.connect('DRIVER={ODBC Driver 18 for SQL Server};SERVER='+server+';DATABASE='+database+';UID='+username+';PWD='+ password)\n",
    "cursor = cnxn.cursor()"
   ]
  },
  {
   "cell_type": "code",
   "execution_count": null,
   "id": "6590f2c8",
   "metadata": {},
   "outputs": [],
   "source": []
  }
 ],
 "metadata": {
  "kernelspec": {
   "display_name": "Python 3 (ipykernel)",
   "language": "python",
   "name": "python3"
  },
  "language_info": {
   "codemirror_mode": {
    "name": "ipython",
    "version": 3
   },
   "file_extension": ".py",
   "mimetype": "text/x-python",
   "name": "python",
   "nbconvert_exporter": "python",
   "pygments_lexer": "ipython3",
   "version": "3.9.12"
  }
 },
 "nbformat": 4,
 "nbformat_minor": 5
}
